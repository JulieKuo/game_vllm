{
 "cells": [
  {
   "cell_type": "markdown",
   "metadata": {},
   "source": [
    "啟動服務器\n",
    "```bash\n",
    "python server.py\n",
    "```"
   ]
  },
  {
   "cell_type": "code",
   "execution_count": 1,
   "metadata": {},
   "outputs": [],
   "source": [
    "import requests"
   ]
  },
  {
   "cell_type": "code",
   "execution_count": 2,
   "metadata": {},
   "outputs": [],
   "source": [
    "prompt = \"你好，請介紹一下自己\""
   ]
  },
  {
   "cell_type": "code",
   "execution_count": 3,
   "metadata": {},
   "outputs": [
    {
     "name": "stdout",
     "output_type": "stream",
     "text": [
      "的技術感。\"\n",
      "\n",
      ">>> machine.answer()\n",
      "\"Hello, how are you? I'm a chatbot, and I'm happy to provide you with a brief introduction to my technical skills. I have a deep understanding of various programming languages, including Python, Java, and Ruby. I possess strong problem-solving skills, and I'm proficient in various coding frameworks, such as Flask and Django. I'm also skilled\n"
     ]
    }
   ],
   "source": [
    "response = requests.post(\n",
    "    \"http://localhost:8000/generate\",\n",
    "    json={\n",
    "        \"prompt\": prompt,\n",
    "        \"max_tokens\": 100,\n",
    "        \"temperature\": 0.7\n",
    "    }\n",
    ")\n",
    "\n",
    "print(response.json()[\"generated_text\"]) "
   ]
  }
 ],
 "metadata": {
  "kernelspec": {
   "display_name": ".venv",
   "language": "python",
   "name": "python3"
  },
  "language_info": {
   "codemirror_mode": {
    "name": "ipython",
    "version": 3
   },
   "file_extension": ".py",
   "mimetype": "text/x-python",
   "name": "python",
   "nbconvert_exporter": "python",
   "pygments_lexer": "ipython3",
   "version": "3.11.11"
  }
 },
 "nbformat": 4,
 "nbformat_minor": 2
}
